{
 "cells": [
  {
   "cell_type": "markdown",
   "metadata": {},
   "source": [
    "## Creating and Modifying Data\n",
    "---\n",
    "So far we have only looked at how to get information out of a database, both because that is more frequent than adding information, and because most other operations only make sense once queries are understood. If we want to create and modify data, we need to know two other sets of commands.\n",
    "\n",
    "The first pair are CREATE TABLE and DROP TABLE. While they are written as two words, they are actually single commands. The first one creates a new table; its arguments are the names and types of the table’s columns. For example, the following statements create the four tables in our survey database:"
   ]
  },
  {
   "cell_type": "raw",
   "metadata": {},
   "source": [
    "CREATE TABLE Person(id text, personal text, family text);\n",
    "CREATE TABLE Site(name text, lat real, long real);\n",
    "CREATE TABLE Visited(id integer, site text, dated text);\n",
    "CREATE TABLE Survey(taken integer, person text, quant text, reading real);"
   ]
  },
  {
   "cell_type": "markdown",
   "metadata": {},
   "source": [
    "We can get rid of one of our tables using:"
   ]
  },
  {
   "cell_type": "raw",
   "metadata": {},
   "source": [
    "DROP TABLE Survey;"
   ]
  },
  {
   "cell_type": "markdown",
   "metadata": {},
   "source": [
    "Be very careful when doing this: if you drop the wrong table, hope that the person maintaining the database has a backup, but it’s better not to have to rely on it.\n",
    "\n",
    "Different database systems support different data types for table columns, but most provide the following: INTEGER (a signed integer), REAL (a floating point number), TEXT (a character string), and BLOB (a 'binary large object' such as an image).\n",
    "\n",
    "Most databases also support Booleans and date/time values; SQLite uses the integers 0 and 1 for the former, and represents the latter as discussed earlier. An increasing number of databases also support geographic data types, such as latitude and longitude. Keeping track of what particular systems do or do not offer, and what names they give different data types, is an unending portability headache.\n",
    "\n",
    "When we create a table, we can specify several kinds of constraints on its columns. For example, a better definition for the Survey table would be:"
   ]
  },
  {
   "cell_type": "raw",
   "metadata": {},
   "source": [
    "CREATE TABLE Survey(\n",
    "    taken   integer not null, -- where reading taken\n",
    "    person  text,             -- may not know who took it\n",
    "    quant   text not null,    -- the quantity measured\n",
    "    reading real not null,    -- the actual reading\n",
    "    primary key(taken, quant),\n",
    "    foreign key(taken) references Visited(id),\n",
    "    foreign key(person) references Person(id)\n",
    ");"
   ]
  },
  {
   "cell_type": "markdown",
   "metadata": {},
   "source": [
    "Once again, exactly what constraints are available and what they’re called depends on which database manager we are using.\n",
    "\n",
    "Once tables have been created, we can add, change, and remove records using our other set of commands, INSERT, UPDATE, and DELETE.\n",
    "\n",
    "The simplest form of INSERT statement lists values in order:"
   ]
  },
  {
   "cell_type": "raw",
   "metadata": {},
   "source": [
    "INSERT INTO Site VALUES('DR-1', -49.85, -128.57);\n",
    "INSERT INTO Site VALUES('DR-3', -47.15, -126.72);\n",
    "INSERT INTO Site VALUES('MSK-4', -48.87, -123.40);"
   ]
  },
  {
   "cell_type": "markdown",
   "metadata": {},
   "source": [
    "We can also insert values into one table directly from another:"
   ]
  },
  {
   "cell_type": "raw",
   "metadata": {},
   "source": [
    "CREATE TABLE JustLatLong(lat text, long text);\n",
    "INSERT INTO JustLatLong SELECT lat, long FROM Site;"
   ]
  },
  {
   "cell_type": "markdown",
   "metadata": {},
   "source": [
    "Modifying existing records is done using the UPDATE statement. To do this we tell the database which table we want to update, what we want to change the values to for any or all of the fields, and under what conditions we should update the values.\n",
    "\n",
    "For example, if we made a mistake when entering the lat and long values of the last INSERT statement above:"
   ]
  },
  {
   "cell_type": "raw",
   "metadata": {},
   "source": [
    "UPDATE Site SET lat = -47.87, long = -122.40 WHERE name = 'MSK-4';"
   ]
  },
  {
   "cell_type": "markdown",
   "metadata": {},
   "source": [
    "Be careful to not forget the WHERE clause or the update statement will modify all of the records in the database.\n",
    "\n",
    "Deleting records can be a bit trickier, because we have to ensure that the database remains internally consistent. If all we care about is a single table, we can use the DELETE command with a WHERE clause that matches the records we want to discard. For example, once we realize that Frank Danforth didn’t take any measurements, we can remove him from the Person table like this:"
   ]
  },
  {
   "cell_type": "raw",
   "metadata": {},
   "source": [
    "DELETE FROM Person WHERE id = 'danforth';"
   ]
  },
  {
   "cell_type": "markdown",
   "metadata": {},
   "source": [
    "But what if we removed Anderson Lake instead? Our Survey table would still contain seven records of measurements he’d taken, but that’s never supposed to happen: Survey.person is a foreign key into the Person table, and all our queries assume there will be a row in the latter matching every value in the former.\n",
    "\n",
    "This problem is called referential integrity: we need to ensure that all references between tables can always be resolved correctly. One way to do this is to delete all the records that use 'lake' as a foreign key before deleting the record that uses it as a primary key. If our database manager supports it, we can automate this using cascading delete. However, this technique is outside the scope of this chapter.\n",
    "\n",
    "Many applications use a hybrid storage model instead of putting everything into a database: the actual data (such as astronomical images) is stored in files, while the database stores the files’ names, their modification dates, the region of the sky they cover, their spectral characteristics, and so on. This is also how most music player software is built: the database inside the application keeps track of the MP3 files, but the files themselves live on disk.\n",
    "\n",
    "Write an SQL statement to replace all uses of null in Survey.person with the string 'unknown'."
   ]
  },
  {
   "cell_type": "code",
   "execution_count": null,
   "metadata": {},
   "outputs": [],
   "source": []
  },
  {
   "cell_type": "markdown",
   "metadata": {},
   "source": [
    "### Key Points:\n",
    "- Use CREATE and DROP to create and delete tables.\n",
    "- Use INSERT to add data.\n",
    "- Use UPDATE to modify existing data.\n",
    "- Use DELETE to remove data.\n",
    "- It is simpler and safer to modify data when every record has a unique primary key.\n",
    "- Do not create dangling references by deleting records that other records refer to."
   ]
  }
 ],
 "metadata": {
  "kernelspec": {
   "display_name": "Python 3",
   "language": "python",
   "name": "python3"
  },
  "language_info": {
   "codemirror_mode": {
    "name": "ipython",
    "version": 3
   },
   "file_extension": ".py",
   "mimetype": "text/x-python",
   "name": "python",
   "nbconvert_exporter": "python",
   "pygments_lexer": "ipython3",
   "version": "3.6.3"
  }
 },
 "nbformat": 4,
 "nbformat_minor": 2
}
